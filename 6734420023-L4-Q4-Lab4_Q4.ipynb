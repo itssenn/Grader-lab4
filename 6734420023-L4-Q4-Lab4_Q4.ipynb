{
 "cells": [
  {
   "cell_type": "markdown",
   "id": "da841a77-6118-4d2f-8491-1b9e611d8ef9",
   "metadata": {
    "deletable": false,
    "editable": false,
    "nbgrader": {
     "cell_type": "markdown",
     "checksum": "666a79f8a8e05e2e4c2379e1a99bdf0b",
     "grade": false,
     "grade_id": "cell-9fcef4832de032da",
     "locked": true,
     "schema_version": 3,
     "solution": false,
     "task": false
    }
   },
   "source": [
    "## Q4\n",
    "จงเขียนฟังก์ชัน quad1 และ quad2 ที่รับพารามิเตอร์เป็นค่าสัมประสิทธิ์ $𝑎, 𝑏, 𝑐$ สำหรับสมการ $𝑎𝑥^2 + 𝑏𝑥 + 𝑐 = 0$ เพื่อหาคำตอบของสมการกำลังสอง ($a ≠ 0$) เมื่อมีคำตอบที่เป็นจำนวนจริง โดยฟังก์ชัน quad1 ส่งคืนค่า x ที่หาด้วยสูตร $𝑥 = \\frac{−𝑏+ \\sqrt{b^2-4ac}} {2a} $   และฟังก์ชัน quad2 ส่งคืนค่า x ที่หาด้วยสูตร $𝑥 = \\frac{−𝑏- \\sqrt{b^2-4ac}} {2a} $ <br>\n",
    "และเขียนโปรแกรมที่อ่านข้อมูลจากไฟล์ **problems\\<n\\>.txt** ซึ่งเก็บสัมประสิทธิ์ $𝑎, 𝑏, 𝑐$ สำหรับสมการกำลังสอง แล้วตรวจสอบว่า สามารถหาคำตอบของสมการเหล่านั้นได้หรือไม่ <br>\n",
    "\t- ถ้าได้ เรียกใช้ฟังก์ชัน quad1 และ quad2 และแสดงผลลัพธ์ <br>\n",
    "\t- ถ้าไม่ได้ แสดงข้อความ Invalid problem <br>\n",
    "ดังตัวอย่างการทำงานต่อไปนี้ <br>\n",
    "**(ส่วนนี้ไม่ต้องส่งงาน) ขอให้นิสิตลองกลับไปเขียนโปรแกรมเพิ่มเติม โดยเปลี่ยนจากการแสดงผลลัพธ์ทางจอภาพ เป็นการเขียนคำตอบเก็บในไฟล์ชื่อ solutions.txt และตรวจสอบความถูกต้องของค่าผลลัพธ์ที่เก็บในไฟล์**"
   ]
  },
  {
   "cell_type": "markdown",
   "id": "49b8e94b-a160-49bb-b65e-d407d61f3389",
   "metadata": {
    "deletable": false,
    "editable": false,
    "nbgrader": {
     "cell_type": "markdown",
     "checksum": "0ae1e96387f2bbdd134e2c181678c507",
     "grade": false,
     "grade_id": "cell-c254c82b49d4e318",
     "locked": true,
     "schema_version": 3,
     "solution": false,
     "task": false
    }
   },
   "source": [
    "### ตัวอย่างการทำงาน: \n",
    "\n",
    "ไฟล์  problems1.txt:<br>\n",
    "1 -2 1 <br>\n",
    "3 -7 2 <br>\n",
    "5 -7 2 <br>\n",
    "5 9 2 <br>\n",
    "----\n",
    "Choose your problem file: **problems1.txt** <br>\n",
    "1.0 1.0 <br> \n",
    "2.0 0.33333333333333333 <br> \n",
    "1.0 0.4 <br> \n",
    "-0.2596875762567151 -1.540312423743285"
   ]
  },
  {
   "cell_type": "markdown",
   "id": "8080cd05-04ab-439c-ae6a-16e55cecb09a",
   "metadata": {
    "deletable": false,
    "editable": false,
    "nbgrader": {
     "cell_type": "markdown",
     "checksum": "19346ea001aa310485397cc45a352a7e",
     "grade": false,
     "grade_id": "cell-4284c61240379200",
     "locked": true,
     "schema_version": 3,
     "solution": false,
     "task": false
    }
   },
   "source": [
    "### ตัวอย่างการทำงาน: \n",
    "\n",
    "ไฟล์  problems2.txt:<br>\n",
    "1 1 2 <br>\n",
    "1 4 3 <br>\n",
    "5 -7 2 <br>\n",
    "0 1 5 <br>\n",
    "----\n",
    "Choose your problem file: **problems2.txt** <br>\n",
    "Invalid problem <br>\n",
    "-1.0 -3.0 <br>\n",
    "1.0 0.4 <br> \n",
    "Invalid problem"
   ]
  },
  {
   "cell_type": "code",
   "execution_count": 104,
   "id": "6281d485-dd71-4c1e-84a9-d4bb46bded30",
   "metadata": {
    "deletable": false,
    "nbgrader": {
     "cell_type": "code",
     "checksum": "4489e19d8cfc86bebc1305c2d4d2cc13",
     "grade": false,
     "grade_id": "cell-8687484c44917cf2",
     "locked": false,
     "schema_version": 3,
     "solution": true,
     "task": false
    }
   },
   "outputs": [],
   "source": [
    "import math\n",
    "\n",
    "def quad1(a,b,c) :\n",
    "    x = (-b + math.sqrt(b**2 - (4*a*c))) / (2*a)\n",
    "    return x\n",
    "    \n",
    "def quad2(a,b,c) :\n",
    "    x = (-b - math.sqrt(b**2 - (4*a*c))) / (2*a)\n",
    "    return x\n",
    "    \n",
    "def run():\n",
    "    file = input()\n",
    "    f = open(f'{file}', 'r')\n",
    "    lst = f.readlines()\n",
    "    \n",
    "    for i in range(len(lst)) :\n",
    "        a, b, c = lst[i].split()\n",
    "        a = float(a)\n",
    "        b = float(b)\n",
    "        c = float(c)\n",
    "        if a != 0 and b**2 - (4*a*c) >= 0 :\n",
    "            print(quad1(a,b,c),quad2(a,b,c))\n",
    "        else :\n",
    "            print('Invalid problem')\n"
   ]
  },
  {
   "cell_type": "code",
   "execution_count": 106,
   "id": "06df5eca-aed2-4ed0-a2cc-88e0cbb1ab7c",
   "metadata": {
    "deletable": false,
    "editable": false,
    "nbgrader": {
     "cell_type": "code",
     "checksum": "9349f520ab51f42242fc4b857804b361",
     "grade": false,
     "grade_id": "cell-f7de888a36c385c9",
     "locked": true,
     "schema_version": 3,
     "solution": false,
     "task": false
    }
   },
   "outputs": [
    {
     "name": "stdin",
     "output_type": "stream",
     "text": [
      " problems1.txt\n"
     ]
    },
    {
     "name": "stdout",
     "output_type": "stream",
     "text": [
      "1.0 1.0\n",
      "2.0 0.3333333333333333\n",
      "1.0 0.4\n",
      "-0.2596875762567151 -1.5403124237432848\n"
     ]
    }
   ],
   "source": [
    "'''ตรวจสอบผลลัพธ์ของโปรแกรมด้วยการรันที่ cell นี้'''\n",
    "run()"
   ]
  },
  {
   "cell_type": "code",
   "execution_count": 108,
   "id": "501ffef0-b273-4eb3-ba26-4fc310ac8d08",
   "metadata": {
    "deletable": false,
    "editable": false,
    "nbgrader": {
     "cell_type": "code",
     "checksum": "7624b563a255b460892d66cdb25e2a4b",
     "grade": false,
     "grade_id": "cell-3549eca772189bc3",
     "locked": true,
     "schema_version": 3,
     "solution": false,
     "task": false
    }
   },
   "outputs": [],
   "source": [
    "'''ตรวจสอบผลการคำนวณ'''\n",
    "from unittest.mock import patch\n",
    "from io import StringIO\n",
    "import math\n",
    "\n",
    "def test(inputs,expected_output): \n",
    "    with patch('builtins.input', side_effect=inputs), patch('sys.stdout', new_callable=StringIO) as mock_stdout:\n",
    "        run()\n",
    "        assert mock_stdout.getvalue() == expected_output,mock_stdout.getvalue()\n",
    "def test_easy_print(inputs,expected_output):\n",
    "    with patch('builtins.input', side_effect=inputs), patch('sys.stdout', new_callable=StringIO) as mock_stdout:\n",
    "        run()\n",
    "        assert expected_output in mock_stdout.getvalue(), mock_stdout.getvalue()"
   ]
  },
  {
   "cell_type": "code",
   "execution_count": 110,
   "id": "6f711baa-2ef7-4820-b781-0e7a9de81b5e",
   "metadata": {
    "deletable": false,
    "editable": false,
    "nbgrader": {
     "cell_type": "code",
     "checksum": "ddef7fb6a566c069034a3872107b2247",
     "grade": true,
     "grade_id": "easy_print",
     "locked": true,
     "points": 1,
     "schema_version": 3,
     "solution": false,
     "task": false
    }
   },
   "outputs": [
    {
     "name": "stdout",
     "output_type": "stream",
     "text": [
      "ok\n"
     ]
    }
   ],
   "source": [
    "'''ตรวจสอบการแสดงผลลัพธ์อย่างง่าย'''\n",
    "test_easy_print(inputs=['problems1.txt'],expected_output='1.0')\n",
    "test_easy_print(inputs=['problems2.txt'],expected_output='Invalid')\n",
    "print('ok')"
   ]
  },
  {
   "cell_type": "code",
   "execution_count": 112,
   "id": "b3b7e77e-2857-463e-a6c1-29e0189fa434",
   "metadata": {
    "deletable": false,
    "editable": false,
    "nbgrader": {
     "cell_type": "code",
     "checksum": "35d8a0a81f0e31b7bcc31e19ba70df5c",
     "grade": true,
     "grade_id": "cell-39cddfd4edaac3f9",
     "locked": true,
     "points": 1,
     "schema_version": 3,
     "solution": false,
     "task": false
    }
   },
   "outputs": [
    {
     "name": "stdout",
     "output_type": "stream",
     "text": [
      "ok\n"
     ]
    }
   ],
   "source": [
    "'''ตรวจสอบผลการคำนวณและการแสดงผลลัพธ์ให้เหมือนกับโจทย์ที่กำหนดให้'''\n",
    "test(['problems1.txt'],'1.0 1.0\\n2.0 0.3333333333333333\\n1.0 0.4\\n-0.2596875762567151 -1.5403124237432848\\n') \n",
    "test(['problems2.txt'],'Invalid problem\\n-1.0 -3.0\\n1.0 0.4\\nInvalid problem\\n')\n",
    "print('ok')"
   ]
  },
  {
   "cell_type": "code",
   "execution_count": 114,
   "id": "cdaca3ed-9262-401b-88ba-93e728f21b04",
   "metadata": {
    "deletable": false,
    "editable": false,
    "nbgrader": {
     "cell_type": "code",
     "checksum": "a17f00302076027edae4b7908d807531",
     "grade": true,
     "grade_id": "cell-b2098adae993ef00",
     "locked": true,
     "points": 1,
     "schema_version": 3,
     "solution": false,
     "task": false
    }
   },
   "outputs": [
    {
     "data": {
      "text/plain": [
       "'เทสลับ1'"
      ]
     },
     "execution_count": 114,
     "metadata": {},
     "output_type": "execute_result"
    }
   ],
   "source": [
    "'''เทสลับ1'''"
   ]
  },
  {
   "cell_type": "code",
   "execution_count": null,
   "id": "1078048b-a0fc-4ff3-8483-c3649bf798e5",
   "metadata": {},
   "outputs": [],
   "source": []
  }
 ],
 "metadata": {
  "BondSan": "7455f76bbb977ea11925cea4a1101c5e7a26ef2f80ac6debd20b50b83bfeb0d0267a022e33d35b0190929fdee71ac64c11423e1d8c13166ac620cacba060236784495849107ea8333dd4c08982574b1c456992ef32b90e57b630b3cd34cb4bdc6875637f05ff468bb777671e446673e9125c51cc8ba5cda5fc1f891113839d93e1f17cdc535152f6571794693f45e541ed37353aec2539a3bbce8b9006e69a06a6349ab566c1e1be4f7a37f5561528495116dcc0486c72ee81a87d133d8c107b3cc5bbe5a081d32d79e6e5fb8be0029219e7a4d0cdee36fdfc44f98e66765e6410a18136fd0724532665477281e2d97ba1cdb6a8dc07b041e83c5ee17d4ffd67",
  "kernelspec": {
   "display_name": "Python 3 (ipykernel)",
   "language": "python",
   "name": "python3"
  },
  "language_info": {
   "codemirror_mode": {
    "name": "ipython",
    "version": 3
   },
   "file_extension": ".py",
   "mimetype": "text/x-python",
   "name": "python",
   "nbconvert_exporter": "python",
   "pygments_lexer": "ipython3",
   "version": "3.12.4"
  }
 },
 "nbformat": 4,
 "nbformat_minor": 5
}
