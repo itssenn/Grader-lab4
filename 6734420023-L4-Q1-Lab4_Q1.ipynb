{
 "cells": [
  {
   "cell_type": "markdown",
   "metadata": {
    "deletable": false,
    "editable": false,
    "id": "28w5nobIZpsx",
    "nbgrader": {
     "cell_type": "markdown",
     "checksum": "e29f854d5838bcfbae6ba8792ceecbf7",
     "grade": false,
     "grade_id": "cell-dbf37dcea5d7dc5c",
     "locked": true,
     "schema_version": 3,
     "solution": false,
     "task": false
    }
   },
   "source": [
    "## Q1\n",
    "จงเขียนโปรแกรมที่รับตำแหน่ง (x,y) (x และ y เป็นจำนวนเต็ม) ซึ่งเป็นจุดเริ่มต้นของหุ่นยนต์จากผู้ใช้ แล้วอ่านลำดับของคำสั่งที่ให้หุ่นยนต์เดินไปทางซ้าย (L) ขวา (R) ขึ้นบน (U) ลงล่าง (D) ครั้งละ 1 หน่วย (ทิศนอกเหนือจากนี้จะเป็น Invalid command) จากไฟล์ **move\\<n\\>.txt** แล้วหาว่าเมื่อจบโปรแกรมหุ่นยนต์จะไปอยู่ที่ตำแหน่งใดและแสดงผลลัพธ์ดังตัวอย่างข้างล่างนี้ <br>\n"
   ]
  },
  {
   "cell_type": "markdown",
   "metadata": {
    "deletable": false,
    "editable": false,
    "id": "PUvFUmc6Zpsz",
    "nbgrader": {
     "cell_type": "markdown",
     "checksum": "1ff0127d6143e4dad6a432504bba73a8",
     "grade": false,
     "grade_id": "cell-7ae57c7b0fc2869d",
     "locked": true,
     "schema_version": 3,
     "solution": false,
     "task": false
    }
   },
   "source": [
    "### ตัวอย่างการทำงาน: \n",
    "\n",
    "ไฟล์ move1.txt:<br>\n",
    "L <br>\n",
    "L <br>\n",
    "U <br>\n",
    "U <br>\n",
    "D <br>\n",
    "R <br>\n",
    "R <br>\n",
    "U <br>\n",
    "U <br>\n",
    "L <br>\n",
    "L <br>\n",
    "----\n",
    "Choose your movefile: **move1.txt** <br>\n",
    "Initial position : **10,20** <br>\n",
    "Robot stops at 8,23\n"
   ]
  },
  {
   "cell_type": "markdown",
   "metadata": {
    "deletable": false,
    "editable": false,
    "id": "izlaUqFSZpsz",
    "nbgrader": {
     "cell_type": "markdown",
     "checksum": "565de72459e946c839f53983083d2a67",
     "grade": false,
     "grade_id": "cell-1b10c564484fa711",
     "locked": true,
     "schema_version": 3,
     "solution": false,
     "task": false
    }
   },
   "source": [
    "### ตัวอย่างการทำงาน: \n",
    "\n",
    "ไฟล์ move2.txt: <br>\n",
    "L <br>\n",
    "L <br>\n",
    "X <br>\n",
    "U <br>\n",
    "D <br>\n",
    "Z <br>\n",
    "R <br>\n",
    "----\n",
    "Choose your movefile: **move2.txt** <br>\n",
    "Initial position : **10,20** <br>\n",
    "Invalid command"
   ]
  },
  {
   "cell_type": "code",
   "execution_count": 185,
   "metadata": {
    "deletable": false,
    "id": "481-8TCfZps0",
    "nbgrader": {
     "cell_type": "code",
     "checksum": "f890af7f5634c9ae49d370cf87f48efc",
     "grade": false,
     "grade_id": "answer",
     "locked": false,
     "schema_version": 3,
     "solution": true
    }
   },
   "outputs": [],
   "source": [
    "def run():\n",
    "    file = str(input('Choose your movefile:'))\n",
    "    f = open(f\"{file}\", \"r\")\n",
    "    x, y = input('Initial position').split(',')\n",
    "    x = int(x) \n",
    "    y = int(y)\n",
    "    n = 0 \n",
    "    \n",
    "    move = f.readlines()\n",
    "    for i in move :\n",
    "        i = i.strip()\n",
    "        if i == 'R':\n",
    "            x += 1\n",
    "        elif i == 'L' :\n",
    "            x -= 1\n",
    "        elif i == 'U' :\n",
    "            y += 1\n",
    "        elif i == 'D' :\n",
    "            y -= 1\n",
    "        else :\n",
    "            print('Invalid command')\n",
    "            break\n",
    "        n += 1\n",
    "            \n",
    "    if n == len(move) :\n",
    "        print(f'Robot stops at {x},{y}')\n",
    "            "
   ]
  },
  {
   "cell_type": "code",
   "execution_count": 187,
   "metadata": {
    "colab": {
     "base_uri": "https://localhost:8080/"
    },
    "deletable": false,
    "editable": false,
    "id": "Bd2rVvFiZps1",
    "nbgrader": {
     "cell_type": "code",
     "checksum": "b7b03893ed0aaf1a2af60ae612b4be37",
     "grade": false,
     "grade_id": "cell-befa13e6c82bd29b",
     "locked": true,
     "schema_version": 3,
     "solution": false,
     "task": false
    },
    "outputId": "f19d0787-3f54-4c8b-c704-126d27a1a07f"
   },
   "outputs": [
    {
     "name": "stdin",
     "output_type": "stream",
     "text": [
      "Choose your movefile: move2.txt\n",
      "Initial position 10,20\n"
     ]
    },
    {
     "name": "stdout",
     "output_type": "stream",
     "text": [
      "Invalid command\n"
     ]
    }
   ],
   "source": [
    "'''ตรวจสอบผลลัพธ์ของโปรแกรมด้วยการรันที่ cell นี้'''\n",
    "run()"
   ]
  },
  {
   "cell_type": "code",
   "execution_count": 165,
   "metadata": {
    "deletable": false,
    "editable": false,
    "id": "ubx3rdB2Zps1",
    "nbgrader": {
     "cell_type": "code",
     "checksum": "98777bef341b333d2832a797ee356d8a",
     "grade": false,
     "grade_id": "partial",
     "locked": true,
     "schema_version": 3,
     "solution": false,
     "task": false
    }
   },
   "outputs": [],
   "source": [
    "'''ตรวจสอบผลการคำนวณ'''\n",
    "from unittest.mock import patch\n",
    "from io import StringIO\n",
    "import math\n",
    "\n",
    "def test(inputs,expected_output): \n",
    "    with patch('builtins.input', side_effect=inputs), patch('sys.stdout', new_callable=StringIO) as mock_stdout:\n",
    "        run()\n",
    "        assert mock_stdout.getvalue() == expected_output,mock_stdout.getvalue()\n",
    "def test_easy_print(inputs,expected_output):\n",
    "    with patch('builtins.input', side_effect=inputs), patch('sys.stdout', new_callable=StringIO) as mock_stdout:\n",
    "        run()\n",
    "        assert expected_output in mock_stdout.getvalue(), mock_stdout.getvalue()"
   ]
  },
  {
   "cell_type": "code",
   "execution_count": 167,
   "metadata": {
    "deletable": false,
    "editable": false,
    "nbgrader": {
     "cell_type": "code",
     "checksum": "140d62e7122d98a8c76760c0d36cc790",
     "grade": true,
     "grade_id": "easy_print",
     "locked": true,
     "points": 1,
     "schema_version": 3,
     "solution": false,
     "task": false
    }
   },
   "outputs": [
    {
     "name": "stdout",
     "output_type": "stream",
     "text": [
      "ok\n"
     ]
    }
   ],
   "source": [
    "'''ตรวจสอบการแสดงผลลัพธ์อย่างง่าย'''\n",
    "test_easy_print(inputs=['move1.txt','10,20'],expected_output='Robot')\n",
    "print('ok')"
   ]
  },
  {
   "cell_type": "code",
   "execution_count": 169,
   "metadata": {
    "deletable": false,
    "editable": false,
    "id": "keisuEReZps2",
    "nbgrader": {
     "cell_type": "code",
     "checksum": "360788ccab690c7dc46e13c3a72e3b5a",
     "grade": true,
     "grade_id": "exact",
     "locked": false,
     "points": 1,
     "schema_version": 3,
     "solution": false
    }
   },
   "outputs": [
    {
     "name": "stdout",
     "output_type": "stream",
     "text": [
      "ok\n"
     ]
    }
   ],
   "source": [
    "'''ตรวจสอบผลการคำนวณและการแสดงผลลัพธ์ให้เหมือนกับโจทย์ที่กำหนดให้'''\n",
    "'''Robot can stop at position x,y'''\n",
    "test(['move1.txt','10,20'],'Robot stops at 8,23\\n') # ++\n",
    "test(['move1.txt','7,5'],'Robot stops at 5,8\\n') #++\n",
    "test(['move1.txt','100,-20'],'Robot stops at 98,-17\\n')  #+-\n",
    "test(['move1.txt','-100,50'],'Robot stops at -102,53\\n')  #-+\n",
    "test(['move1.txt','-100,-100'],'Robot stops at -102,-97\\n')  #--\n",
    "print('ok')"
   ]
  },
  {
   "cell_type": "code",
   "execution_count": 171,
   "metadata": {
    "deletable": false,
    "editable": false,
    "id": "YBNk9rP_Zps3",
    "nbgrader": {
     "cell_type": "code",
     "checksum": "a7d5d7dfac9108deede6807a8ef489d4",
     "grade": true,
     "grade_id": "cell-cbc47179f27fefee",
     "locked": true,
     "points": 1,
     "schema_version": 3,
     "solution": false,
     "task": false
    }
   },
   "outputs": [
    {
     "name": "stdout",
     "output_type": "stream",
     "text": [
      "ok\n"
     ]
    }
   ],
   "source": [
    "'''ตรวจสอบผลการคำนวณและการแสดงผลลัพธ์ให้เหมือนกับโจทย์ที่กำหนดให้'''\n",
    "'''Invalid command'''\n",
    "test(['move2.txt','15,20'],'Invalid command\\n') #\n",
    "test(['move2.txt','1,1'],'Invalid command\\n') #\n",
    "print('ok')"
   ]
  },
  {
   "cell_type": "code",
   "execution_count": 173,
   "metadata": {
    "deletable": false,
    "editable": false,
    "id": "MdyUFFS5dzOX",
    "nbgrader": {
     "cell_type": "code",
     "checksum": "cee2ea1eab2f2f98e44ab0c74844698c",
     "grade": true,
     "grade_id": "cell-bbefc28bedac83a8",
     "locked": true,
     "points": 1,
     "schema_version": 3,
     "solution": false,
     "task": false
    }
   },
   "outputs": [
    {
     "data": {
      "text/plain": [
       "'เทสลับ1'"
      ]
     },
     "execution_count": 173,
     "metadata": {},
     "output_type": "execute_result"
    }
   ],
   "source": [
    "'''เทสลับ1'''"
   ]
  },
  {
   "cell_type": "code",
   "execution_count": 175,
   "metadata": {
    "deletable": false,
    "editable": false,
    "id": "YgP9a23SZps3",
    "nbgrader": {
     "cell_type": "code",
     "checksum": "110d6439bf690b1c30c2ac39e634bcf0",
     "grade": true,
     "grade_id": "cell-4c547bf9d492d10f",
     "locked": true,
     "points": 1,
     "schema_version": 3,
     "solution": false,
     "task": false
    }
   },
   "outputs": [
    {
     "data": {
      "text/plain": [
       "'เทสลับ2'"
      ]
     },
     "execution_count": 175,
     "metadata": {},
     "output_type": "execute_result"
    }
   ],
   "source": [
    "'''เทสลับ2'''"
   ]
  },
  {
   "cell_type": "code",
   "execution_count": null,
   "metadata": {},
   "outputs": [],
   "source": []
  }
 ],
 "metadata": {
  "BondSan": "448156f50e09f6437d5d7e1d32ddd0931bb6bc9270913dec2092054b8bb51f47ca72300764188a4b33f389ef55f61a4019e5bd36bbe3cbaa67bd5ca077d1d642c148f45957333fd2b28caa4ace90a996befe6d1fc571da6b308eb7bedda0670cc81b945e1552ab52c2a512dab73ea1a230cd6e383762c570be02569dbbbb32e655ac86b494613224a2d067d0a2e6849bb52480e25e1840ad162b7b2e3869c5510b54eb7994e875733594579c3019c0186693d861b86062e0e0d59491267e8fd24ef1c310d7356c3f43589875c944f487b5c348a3851a0b0754b602138595fbfe0bc96f7fa716369b4c105152e2c8986eb3aff2bcf8567974208212767e6bf064",
  "colab": {
   "provenance": []
  },
  "kernelspec": {
   "display_name": "Python 3 (ipykernel)",
   "language": "python",
   "name": "python3"
  },
  "language_info": {
   "codemirror_mode": {
    "name": "ipython",
    "version": 3
   },
   "file_extension": ".py",
   "mimetype": "text/x-python",
   "name": "python",
   "nbconvert_exporter": "python",
   "pygments_lexer": "ipython3",
   "version": "3.12.4"
  }
 },
 "nbformat": 4,
 "nbformat_minor": 4
}
