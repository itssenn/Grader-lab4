{
 "cells": [
  {
   "cell_type": "markdown",
   "metadata": {
    "deletable": false,
    "editable": false,
    "nbgrader": {
     "cell_type": "markdown",
     "checksum": "a178ed11fbb5b8edbe934c129a70256d",
     "grade": false,
     "grade_id": "cell-dbf37dcea5d7dc5c",
     "locked": true,
     "schema_version": 3,
     "solution": false,
     "task": false
    }
   },
   "source": [
    "## Q3\n",
    "จงเขียนฟังก์ชัน f(x) ที่คำนวณ 1/x! โดยใช้ ฟังก์ชัน factorial จาก module math <br> และฟังก์ชัน summation(a,b) ที่ใช้ฟังก์ชัน f และ คำนวณผลรวมของ f(x) เมื่อ x = a, a+1,..., b (นั่นคือ 1/a! + 1/(a+1)! + ... + 1/b!) โดยที่ a ต้องไม่มากกว่า b <br>\n",
    " \n",
    "จากนั้นให้เขียนโปรแกรมหลักที่รับ**จำนวนเต็มบวก 2 จำนวน m และ n** (m อาจมากกว่าหรือน้อยกว่า n) แล้วเรียกใช้ฟังก์ชัน summation เพื่อ คำนวณหาผลรวมของ f(x) เมื่อ x มีค่าตั้งแต่ m ถึง n <br>\n",
    "**แสดงผลลัพธ์เป็นตัวเลขทศนิยม 4 ตำแหน่ง โดยใช้ ฟังก์ชัน round**"
   ]
  },
  {
   "cell_type": "markdown",
   "metadata": {
    "deletable": false,
    "editable": false,
    "nbgrader": {
     "cell_type": "markdown",
     "checksum": "335253310c887f63ae8d81ad9685d15e",
     "grade": false,
     "grade_id": "cell-679ab39eeac1b48a",
     "locked": true,
     "schema_version": 3,
     "solution": false,
     "task": false
    }
   },
   "source": [
    "### ตัวอย่างการทำงาน: \n",
    "\n",
    "Enter m: **1** <br>\n",
    "Enter n: **3** <br>\n",
    "1.6667\n"
   ]
  },
  {
   "cell_type": "markdown",
   "metadata": {
    "deletable": false,
    "editable": false,
    "nbgrader": {
     "cell_type": "markdown",
     "checksum": "68bcad310b8cf5519acfd53663044702",
     "grade": false,
     "grade_id": "cell-7ae57c7b0fc2869d",
     "locked": true,
     "schema_version": 3,
     "solution": false,
     "task": false
    }
   },
   "source": [
    "### ตัวอย่างการทำงาน: \n",
    "\n",
    "Enter m: **3** <br>\n",
    "Enter n: **1** <br>\n",
    "1.6667"
   ]
  },
  {
   "cell_type": "markdown",
   "metadata": {
    "deletable": false,
    "editable": false,
    "nbgrader": {
     "cell_type": "markdown",
     "checksum": "662fb7ac8e225a1e43bd9a5c88e20f15",
     "grade": false,
     "grade_id": "cell-400409b302bb64e5",
     "locked": true,
     "schema_version": 3,
     "solution": false,
     "task": false
    }
   },
   "source": [
    "### ตัวอย่างการทำงาน: \n",
    "\n",
    "Enter m: **3** <br>\n",
    "Enter n: **6** <br>\n",
    "0.2181"
   ]
  },
  {
   "cell_type": "code",
   "execution_count": 38,
   "metadata": {
    "deletable": false,
    "nbgrader": {
     "cell_type": "code",
     "checksum": "b20de013c1a25b44a99755b00a9d2003",
     "grade": false,
     "grade_id": "answer",
     "locked": false,
     "schema_version": 3,
     "solution": true
    }
   },
   "outputs": [],
   "source": [
    "import math\n",
    "def f(x):\n",
    "    x = 1 / math.factorial(x)\n",
    "    return x\n",
    "    \n",
    "def summation(a, b):\n",
    "    sum = 0\n",
    "    for i in range(a,b+1):\n",
    "        sum = sum + f(i)\n",
    "    print(round(sum, 4))\n",
    "def run():\n",
    "    m = int(input('Enter m:'))\n",
    "    n = int(input('Enter n:'))\n",
    "    if m > n :\n",
    "        a = n\n",
    "        b = m\n",
    "    else :\n",
    "        a = m\n",
    "        b = n\n",
    "    summation(a,b)"
   ]
  },
  {
   "cell_type": "code",
   "execution_count": 40,
   "metadata": {
    "deletable": false,
    "editable": false,
    "nbgrader": {
     "cell_type": "code",
     "checksum": "b7b03893ed0aaf1a2af60ae612b4be37",
     "grade": false,
     "grade_id": "cell-befa13e6c82bd29b",
     "locked": true,
     "schema_version": 3,
     "solution": false,
     "task": false
    }
   },
   "outputs": [
    {
     "name": "stdin",
     "output_type": "stream",
     "text": [
      "Enter m: 1\n",
      "Enter n: 3\n"
     ]
    },
    {
     "name": "stdout",
     "output_type": "stream",
     "text": [
      "1.6667\n"
     ]
    }
   ],
   "source": [
    "'''ตรวจสอบผลลัพธ์ของโปรแกรมด้วยการรันที่ cell นี้'''\n",
    "run()"
   ]
  },
  {
   "cell_type": "code",
   "execution_count": 42,
   "metadata": {
    "deletable": false,
    "editable": false,
    "nbgrader": {
     "cell_type": "code",
     "checksum": "98777bef341b333d2832a797ee356d8a",
     "grade": false,
     "grade_id": "partial",
     "locked": true,
     "schema_version": 3,
     "solution": false,
     "task": false
    }
   },
   "outputs": [],
   "source": [
    "'''ตรวจสอบผลการคำนวณ'''\n",
    "from unittest.mock import patch\n",
    "from io import StringIO\n",
    "import math\n",
    "\n",
    "def test(inputs,expected_output): \n",
    "    with patch('builtins.input', side_effect=inputs), patch('sys.stdout', new_callable=StringIO) as mock_stdout:\n",
    "        run()\n",
    "        assert mock_stdout.getvalue() == expected_output,mock_stdout.getvalue()\n",
    "def test_easy_print(inputs,expected_output):\n",
    "    with patch('builtins.input', side_effect=inputs), patch('sys.stdout', new_callable=StringIO) as mock_stdout:\n",
    "        run()\n",
    "        assert expected_output in mock_stdout.getvalue(), mock_stdout.getvalue()"
   ]
  },
  {
   "cell_type": "code",
   "execution_count": 44,
   "metadata": {
    "deletable": false,
    "editable": false,
    "nbgrader": {
     "cell_type": "code",
     "checksum": "cda0e80858a79e6aa7b65025f80da057",
     "grade": true,
     "grade_id": "easy_print",
     "locked": true,
     "points": 1,
     "schema_version": 3,
     "solution": false,
     "task": false
    }
   },
   "outputs": [
    {
     "name": "stdout",
     "output_type": "stream",
     "text": [
      "ok\n"
     ]
    }
   ],
   "source": [
    "'''ตรวจสอบการแสดงผลลัพธ์อย่างง่าย'''\n",
    "test_easy_print(inputs=['1','3'],expected_output='1')\n",
    "print('ok')"
   ]
  },
  {
   "cell_type": "code",
   "execution_count": 46,
   "metadata": {
    "deletable": false,
    "editable": false,
    "nbgrader": {
     "cell_type": "code",
     "checksum": "29180f486f3895347fbe3c655608881c",
     "grade": true,
     "grade_id": "cell-4f7b8ee5a68b76a7",
     "locked": true,
     "points": 1,
     "schema_version": 3,
     "solution": false,
     "task": false
    }
   },
   "outputs": [
    {
     "name": "stdout",
     "output_type": "stream",
     "text": [
      "ok\n"
     ]
    }
   ],
   "source": [
    "'''ตรวจสอบผลการคำนวณและการแสดงผลลัพธ์ให้เหมือนกับโจทย์ที่กำหนดให้'''\n",
    "test(['1','3'],'1.6667\\n')  \n",
    "test(['3','6'],'0.2181\\n') \n",
    "test(['5','6'],'0.0097\\n')\n",
    "test(['3','4'],'0.2083\\n')\n",
    "print('ok')"
   ]
  },
  {
   "cell_type": "code",
   "execution_count": 48,
   "metadata": {
    "deletable": false,
    "editable": false,
    "nbgrader": {
     "cell_type": "code",
     "checksum": "fb7049e6b095efd688ebcfaf99982122",
     "grade": true,
     "grade_id": "cell-9becccc26c51e026",
     "locked": true,
     "points": 1,
     "schema_version": 3,
     "solution": false,
     "task": false
    }
   },
   "outputs": [
    {
     "name": "stdout",
     "output_type": "stream",
     "text": [
      "ok\n"
     ]
    }
   ],
   "source": [
    "'''ตรวจสอบผลการคำนวณและการแสดงผลลัพธ์ให้เหมือนกับโจทย์ที่กำหนดให้'''\n",
    "test(['3','1'],'1.6667\\n') \n",
    "test(['9','2'],'0.7183\\n')\n",
    "test(['5','2'],'0.7167\\n')\n",
    "print('ok')"
   ]
  },
  {
   "cell_type": "code",
   "execution_count": 50,
   "metadata": {
    "deletable": false,
    "editable": false,
    "nbgrader": {
     "cell_type": "code",
     "checksum": "6ddd3a9d8b1280000c5e5bba79c68d97",
     "grade": true,
     "grade_id": "cell-97ebb19bdacf1da4",
     "locked": true,
     "points": 1,
     "schema_version": 3,
     "solution": false,
     "task": false
    }
   },
   "outputs": [
    {
     "data": {
      "text/plain": [
       "'เทสลับ'"
      ]
     },
     "execution_count": 50,
     "metadata": {},
     "output_type": "execute_result"
    }
   ],
   "source": [
    "'''เทสลับ'''"
   ]
  },
  {
   "cell_type": "code",
   "execution_count": 52,
   "metadata": {
    "deletable": false,
    "editable": false,
    "nbgrader": {
     "cell_type": "code",
     "checksum": "79ac6fd00f80784c529facfa6e918aee",
     "grade": true,
     "grade_id": "exact",
     "locked": false,
     "points": 1,
     "schema_version": 3,
     "solution": false
    }
   },
   "outputs": [
    {
     "data": {
      "text/plain": [
       "'เทสลับ'"
      ]
     },
     "execution_count": 52,
     "metadata": {},
     "output_type": "execute_result"
    }
   ],
   "source": [
    "'''เทสลับ'''"
   ]
  },
  {
   "cell_type": "code",
   "execution_count": null,
   "metadata": {},
   "outputs": [],
   "source": []
  }
 ],
 "metadata": {
  "BondSan": "a10616c43ab579a5f26004a8acd1c256fbecc6beafd470e118ea785bd6f9cfff7aaf5af990132abf8afd2556009cfb0fe86199227087842ebe4ecda076c46f85160ebdaab9cf49809a4cfb97c4262976bac708ded81605beb380d0a34f6a8cedba3f4f6e8c32dcdd08a3bf91b9a65207ae28ae51e78312d50c2d9ecd8bc8597e55e3751de0dc6d9499cd908d927430ca2f27442a4b3816f16d2188d140ff0ee0875b690590d6b0507e66b0d59c5333d7252c8cd38078b5ed6bf853339f014401e0af2eb94355d60046ebbd8eb48128a286313ddad0b247e2464d2f5895c7bd89b624eed7254ea0672fa5600e73c80da1642fc0aa42f1524676bbd36ae9dd3359",
  "kernelspec": {
   "display_name": "Python 3 (ipykernel)",
   "language": "python",
   "name": "python3"
  },
  "language_info": {
   "codemirror_mode": {
    "name": "ipython",
    "version": 3
   },
   "file_extension": ".py",
   "mimetype": "text/x-python",
   "name": "python",
   "nbconvert_exporter": "python",
   "pygments_lexer": "ipython3",
   "version": "3.12.4"
  },
  "vscode": {
   "interpreter": {
    "hash": "318f2c383d48220c821fefd227250c35bb828f95042f5889a5ad1704b1baf79c"
   }
  }
 },
 "nbformat": 4,
 "nbformat_minor": 4
}
